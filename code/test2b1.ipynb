{
 "cells": [
  {
   "cell_type": "code",
   "execution_count": 127,
   "id": "fcb6197e-db60-4ab4-85a6-a17fa2ad9a33",
   "metadata": {},
   "outputs": [],
   "source": [
    "# Import modules.\n",
    "import os\n",
    "import numpy as np\n",
    "from sklearn.linear_model import ElasticNetCV\n",
    "from sklearn.datasets import make_regression"
   ]
  },
  {
   "cell_type": "code",
   "execution_count": 135,
   "id": "d4b37c16-6151-41b6-a584-ec3b167a7029",
   "metadata": {},
   "outputs": [
    {
     "name": "stdout",
     "output_type": "stream",
     "text": [
      "Parameter values: {'n_samples': 100000, 'n_features': 500, 'l1_ratio': 1, 'cv': 10, 'verbose': 1, 'n_jobs': 2, 'random_state': 12345}\n"
     ]
    }
   ],
   "source": [
    "# Set parameters.\n",
    "params={}\n",
    "params['n_samples']=100000\n",
    "params['n_features']=500\n",
    "params['l1_ratio']=1\n",
    "params['cv']=10\n",
    "params['verbose']=1\n",
    "params['n_jobs']=int(os.environ['SLURM_JOB_CPUS_PER_NODE'])\n",
    "#params['n_jobs']=1\n",
    "params['random_state']=12345\n",
    "# Show values.\n",
    "print('Parameter values:',params)"
   ]
  },
  {
   "cell_type": "code",
   "execution_count": 129,
   "id": "3e888094-1fd3-4e35-a561-b3692abd1887",
   "metadata": {},
   "outputs": [
    {
     "name": "stdout",
     "output_type": "stream",
     "text": [
      "Outcome dimensions: (100000,)\n",
      "Input dimensions: (100000, 500)\n"
     ]
    }
   ],
   "source": [
    "# Generate variables.\n",
    "X,y=make_regression(\\\n",
    "                    n_samples=params['n_samples'],\\\n",
    "                    n_features=params['n_features'],\\\n",
    "                    random_state=params['random_state'])\n",
    "# Describe values.\n",
    "print('Outcome dimensions:',y.shape)\n",
    "print('Input dimensions:',X.shape)"
   ]
  },
  {
   "cell_type": "code",
   "execution_count": 137,
   "id": "4cee4ce2-dae8-46b8-ba70-928bebe0a272",
   "metadata": {},
   "outputs": [
    {
     "name": "stdout",
     "output_type": "stream",
     "text": [
      "Model parameters:\n"
     ]
    },
    {
     "data": {
      "text/plain": [
       "{'alphas': None,\n",
       " 'copy_X': True,\n",
       " 'cv': 10,\n",
       " 'eps': 0.001,\n",
       " 'fit_intercept': True,\n",
       " 'l1_ratio': 1,\n",
       " 'max_iter': 1000,\n",
       " 'n_alphas': 100,\n",
       " 'n_jobs': 2,\n",
       " 'normalize': False,\n",
       " 'positive': False,\n",
       " 'precompute': 'auto',\n",
       " 'random_state': 12345,\n",
       " 'selection': 'cyclic',\n",
       " 'tol': 0.0001,\n",
       " 'verbose': 1}"
      ]
     },
     "execution_count": 137,
     "metadata": {},
     "output_type": "execute_result"
    }
   ],
   "source": [
    "# Define model object.\n",
    "reg=ElasticNetCV(\\\n",
    "                 l1_ratio=params['l1_ratio'],\\\n",
    "                 cv=params['cv'],\\\n",
    "                 verbose=params['verbose'],\\\n",
    "                 n_jobs=params['n_jobs'],\\\n",
    "                 random_state=params['random_state'])\n",
    "# Show input parameters.\n",
    "print('Model parameters:')\n",
    "reg.get_params(deep=False)"
   ]
  },
  {
   "cell_type": "code",
   "execution_count": 138,
   "id": "b2bc1ea5-d1c5-483c-9222-c05b3b8ea089",
   "metadata": {},
   "outputs": [
    {
     "name": "stderr",
     "output_type": "stream",
     "text": [
      "[Parallel(n_jobs=2)]: Using backend ThreadingBackend with 2 concurrent workers.\n",
      "........................................................................................................................................................................................................................................................................................................................................................................................................................................................................................................................................................................................................................................................................................................................................................................................................................................................................................................................................................................................................................................[Parallel(n_jobs=2)]: Done  10 out of  10 | elapsed:   16.7s finished\n"
     ]
    },
    {
     "data": {
      "text/plain": [
       "ElasticNetCV(cv=10, l1_ratio=1, n_jobs=2, random_state=12345, verbose=1)"
      ]
     },
     "execution_count": 138,
     "metadata": {},
     "output_type": "execute_result"
    }
   ],
   "source": [
    "# Fit model.\n",
    "reg.fit(X,y)"
   ]
  }
 ],
 "metadata": {
  "kernelspec": {
   "display_name": "Python 3 (ipykernel)",
   "language": "python",
   "name": "python3"
  },
  "language_info": {
   "codemirror_mode": {
    "name": "ipython",
    "version": 3
   },
   "file_extension": ".py",
   "mimetype": "text/x-python",
   "name": "python",
   "nbconvert_exporter": "python",
   "pygments_lexer": "ipython3",
   "version": "3.9.7"
  }
 },
 "nbformat": 4,
 "nbformat_minor": 5
}
